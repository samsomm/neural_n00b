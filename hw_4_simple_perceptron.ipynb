{
 "cells": [
  {
   "cell_type": "markdown",
   "metadata": {},
   "source": [
    "# HW 4. \n",
    "\n",
    "\n"
   ]
  },
  {
   "cell_type": "markdown",
   "metadata": {},
   "source": [
    "# Task 4.1: \n",
    "\n",
    "# Handwritten Digits Classification\n",
    "\n",
    "## Overview\n",
    "Implementing a Neural Network for classifying handwritten digits using the 3D MNIST dataset, with a focus on PyTorch for model development and accuracy assessment.\n",
    "\n",
    "### Dataset\n",
    "- Utilize the [3D MNIST dataset from Kaggle](https://www.kaggle.com/datasets/daavoo/3d-mnist) for training and testing the model.\n",
    "\n",
    "### Neural Network Implementation with PyTorch\n",
    "- Implement a Neural Network using PyTorch. \n",
    "- Ensure the network is suitable for handling the 3D data structure of the dataset.\n",
    "- Tailor the architecture to effectively learn from the dataset for digit classification.\n",
    "\n",
    "### Accuracy Calculation\n",
    "- After training, evaluate the model on a test set.\n",
    "- Calculate the accuracy of the model: \\(\\frac{\\text{Number of Correct Predictions}}{\\text{Total Predictions}}\\).\n",
    "- Document the model's performance and any insights gained during the development process.\n"
   ]
  }
 ],
 "metadata": {
  "kernelspec": {
   "display_name": "Python 3",
   "language": "python",
   "name": "python3"
  },
  "language_info": {
   "codemirror_mode": {
    "name": "ipython",
    "version": 3
   },
   "file_extension": ".py",
   "mimetype": "text/x-python",
   "name": "python",
   "nbconvert_exporter": "python",
   "pygments_lexer": "ipython3",
   "version": "3.11.5"
  },
  "orig_nbformat": 4
 },
 "nbformat": 4,
 "nbformat_minor": 2
}
