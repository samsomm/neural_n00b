{
 "cells": [
  {
   "cell_type": "markdown",
   "metadata": {},
   "source": [
    "# Task 7.1\n",
    "\n",
    "## Objective:\n",
    "- Experiment with different configurations of a Neural Network (NN) in NLP binary classification.\n",
    "- Identify the best architecture based on metrics like accuracy, precision, recall, and F1 score.\n",
    "\n",
    "#### Step 1: Explore NN Configurations\n",
    "- Layer Variation: Experiment with adding or removing linear layers.\n",
    "- Neuron Adjustment: Modify the number of neurons in each layer.\n",
    "- Activation Functions: Try different functions such as sigmoid, tanh, or others.\n",
    "- Dropout Rate: Test various dropout rates to control overfitting.\n",
    "- Batch Normalization: Experiment with the placement of batch normalization or try without it.\n",
    "\n",
    "#### Step 2: Analyze the Base Model\n",
    "- Understand the structure and components of the provided neural network code.\n",
    "\n",
    "#### Step 3: Dataset Preparation\n",
    "- Use a standard NLP dataset, ensuring it is appropriately preprocessed for the task.\n",
    "\n",
    "#### Step 4: Model Training and Evaluation\n",
    "- Train each model configuration on the dataset.\n",
    "- Evaluate the models using metrics such as accuracy, precision, recall, and F1 score.\n",
    "\n",
    "#### Step 5: Results and Analysis\n",
    "- Record the configurations and their corresponding performance metrics.\n",
    "- Analyze which configurations yield better performance and why.\n",
    "\n",
    "#### Step 6: Final Submission\n",
    "- Prepare a report detailing the experiments, results, and your conclusions.\n",
    "- Include reflections on what was learned from this task.\n",
    "\n",
    "#### Conclusion:\n",
    "- This task aims to enhance your understanding of how NN architecture influences performance in NLP tasks."
   ]
  },
  {
   "cell_type": "code",
   "execution_count": null,
   "metadata": {},
   "outputs": [],
   "source": [
    "# Please see/edit the next code - neural_n00b/src/nlp/nlp_bi_classificator_service.py\n",
    "# Train/test 3 different NN configurations\n",
    "# Collect all metrics and select the best NN configuration related to the metrics\n",
    "\n",
    "#TODO Change me and select the best one by the link - neural_n00b/src/nlp/nlp_bi_classificator_service.py \n",
    "#    def __init__(self, num_features):\n",
    "#        super().__init__()\n",
    "#        self.flatten = nn.Flatten()\n",
    "#        self.lin_relu_stack = nn.Sequential(            \n",
    "#            #features * 1D words vector len * 2D vector slices)\n",
    "#            nn.Linear(((num_features * cont_words_in_sentence * dim_size_vector)), 256),\n",
    "#            nn.BatchNorm1d(256),\n",
    "#            nn.ReLU(),\n",
    "#            nn.Dropout(0.5),\n",
    "#            nn.Linear(256, 2))"
   ]
  },
  {
   "cell_type": "markdown",
   "metadata": {},
   "source": [
    "# Task 7.2\n",
    "\n",
    "# NLP Multiclass Classification Task: Emotions in Text\n",
    "\n",
    "## Objective\n",
    "Develop an NLP model to classify text into emotions using the \"Emotions in Text\" dataset from Kaggle.\n",
    "\n",
    "## Steps\n",
    "\n",
    "1. **Data Preparation**\n",
    "   - Import necessary libraries (pandas, numpy, sklearn, etc.).\n",
    "   - Load the dataset: `dataset = pd.read_csv('path_to_dataset.csv')`.\n",
    "\n",
    "2. **Exploratory Data Analysis**\n",
    "   - Analyze the distribution of classes (emotions).\n",
    "   - Visualize data characteristics using plots.\n",
    "\n",
    "3. **Text Preprocessing**\n",
    "   - Clean and preprocess text data (tokenization, removing stopwords, etc.).\n",
    "\n",
    "4. **Model Building**\n",
    "   - Split data into training and testing sets.\n",
    "   - Choose and train a suitable classification model.\n",
    "\n",
    "5. **Evaluation**\n",
    "   - Evaluate the model's performance using metrics like accuracy, precision, recall.\n",
    "\n",
    "6. **Conclusion**\n",
    "   - Summarize findings and suggest improvements.\n",
    "\n",
    "## Dataset\n",
    "Download from: [Kaggle - Emotions in Text](https://www.kaggle.com/datasets/ishantjuyal/emotions-in-text)\n",
    "\n"
   ]
  }
 ],
 "metadata": {
  "kernelspec": {
   "display_name": "Python 3",
   "language": "python",
   "name": "python3"
  },
  "language_info": {
   "codemirror_mode": {
    "name": "ipython",
    "version": 3
   },
   "file_extension": ".py",
   "mimetype": "text/x-python",
   "name": "python",
   "nbconvert_exporter": "python",
   "pygments_lexer": "ipython3",
   "version": "3.11.5"
  },
  "orig_nbformat": 4
 },
 "nbformat": 4,
 "nbformat_minor": 2
}
