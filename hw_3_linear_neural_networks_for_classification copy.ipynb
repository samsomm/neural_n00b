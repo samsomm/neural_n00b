{
 "cells": [
  {
   "cell_type": "markdown",
   "metadata": {},
   "source": [
    "# HW 3. \n",
    "\n",
    "\n"
   ]
  },
  {
   "cell_type": "markdown",
   "metadata": {},
   "source": [
    "# Task 3.1: \n",
    "\n",
    "# Cat and Dog Image Classification\n",
    "\n",
    "This project involves building a binary classifier to distinguish between images of cats and dogs using logistic regression. Below are the steps followed in this project:\n",
    "\n",
    "## 1. Dataset\n",
    "- The project uses the [Cat and Dog dataset from Kaggle](https://www.kaggle.com/datasets/tongpython/cat-and-dog).\n",
    "- This dataset consists of images of cats and dogs, which are used to train and test the model for binary classification.\n",
    "\n",
    "## 2. Prepare Dataset and Train Model\n",
    "- The dataset is first preprocessed to be suitable for input into the logistic regression model. This includes resizing images, converting them to grayscale or color, and flattening them into a 1D array (if necessary).\n",
    "- We use the Logistic Regression model from the scikit-learn library. More details can be found on the [LogisticRegression documentation page](https://scikit-learn.org/stable/modules/generated/sklearn.linear_model.LogisticRegression.html).\n",
    "- The dataset is split into training and testing sets. The model is trained on the training set.\n",
    "\n",
    "## 3. Model Evaluation\n",
    "- The accuracy of the model is calculated by comparing the model’s predictions on the test set with the actual labels.\n",
    "- Accuracy is determined using the formula: \\(\\frac{\\text{Number of Correct Predictions}}{\\text{Total Number of Predictions}}\\).\n",
    "- This metric gives us an understanding of how well our model performs in distinguishing between images of cats and dogs.\n",
    "\n",
    "\n",
    "\n"
   ]
  }
 ],
 "metadata": {
  "kernelspec": {
   "display_name": "Python 3",
   "language": "python",
   "name": "python3"
  },
  "language_info": {
   "codemirror_mode": {
    "name": "ipython",
    "version": 3
   },
   "file_extension": ".py",
   "mimetype": "text/x-python",
   "name": "python",
   "nbconvert_exporter": "python",
   "pygments_lexer": "ipython3",
   "version": "3.11.5"
  },
  "orig_nbformat": 4
 },
 "nbformat": 4,
 "nbformat_minor": 2
}
