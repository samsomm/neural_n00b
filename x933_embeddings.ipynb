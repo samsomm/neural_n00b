{
 "cells": [
  {
   "cell_type": "markdown",
   "metadata": {},
   "source": [
    "#TODO text to code generator\n",
    "\n",
    "1. Embeddings are numerical representations of concepts converted to number sequences,\n",
    "2. Vector distance (Cosine, Euclidian, Haming, Dot prod, Minkowski) \"data close / data far\" easy for computers to understand the relationships between those concepts. \n",
    "3.  https://openai.com/blog/introducing-text-and-code-embeddings"
   ]
  }
 ],
 "metadata": {
  "language_info": {
   "name": "python"
  },
  "orig_nbformat": 4
 },
 "nbformat": 4,
 "nbformat_minor": 2
}
