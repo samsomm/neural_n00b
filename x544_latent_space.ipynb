{
 "cells": [
  {
   "cell_type": "markdown",
   "metadata": {},
   "source": [
    "https://towardsdatascience.com/understanding-latent-space-in-machine-learning-de5a7c687d8d\n",
    "\n",
    "# TODO \n",
    "1. obtaining of distribution \n",
    "2. Bayes' theorem https://en.wikipedia.org/wiki/Bayes%27_theorem\n",
    "3. https://www.librom.net/examples.html\n",
    "4. Latent space Visualisation ++ \n",
    "\n"
   ]
  }
 ],
 "metadata": {
  "language_info": {
   "name": "python"
  },
  "orig_nbformat": 4
 },
 "nbformat": 4,
 "nbformat_minor": 2
}
